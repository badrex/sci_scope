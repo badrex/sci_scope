{
 "cells": [
  {
   "cell_type": "code",
   "execution_count": 2,
   "metadata": {},
   "outputs": [],
   "source": [
    "import numpy as np\n",
    "import pandas as pd\n",
    "import matplotlib.pyplot as plt\n",
    "import seaborn as sns\n",
    "from collections import defaultdict, Counter, OrderedDict\n",
    "import pickle"
   ]
  },
  {
   "cell_type": "code",
   "execution_count": 3,
   "metadata": {},
   "outputs": [],
   "source": [
    "import datasets"
   ]
  },
  {
   "cell_type": "code",
   "execution_count": 4,
   "metadata": {},
   "outputs": [],
   "source": [
    "import glob"
   ]
  },
  {
   "cell_type": "code",
   "execution_count": 5,
   "metadata": {},
   "outputs": [],
   "source": [
    "import json"
   ]
  },
  {
   "cell_type": "code",
   "execution_count": 6,
   "metadata": {},
   "outputs": [],
   "source": [
    "from tqdm.notebook import tqdm"
   ]
  },
  {
   "cell_type": "code",
   "execution_count": 7,
   "metadata": {},
   "outputs": [],
   "source": [
    "json_files = [\n",
    "    json_file_id.split('/')[-1][:-5]\n",
    "    for json_file_id in glob.glob('../data/json_files/*.json')\n",
    "]\n"
   ]
  },
  {
   "cell_type": "code",
   "execution_count": 8,
   "metadata": {},
   "outputs": [
    {
     "data": {
      "application/vnd.jupyter.widget-view+json": {
       "model_id": "beadf5edf64e4d7ea782cdd42cc1358f",
       "version_major": 2,
       "version_minor": 0
      },
      "text/plain": [
       "  0%|          | 0/17486 [00:00<?, ?it/s]"
      ]
     },
     "metadata": {},
     "output_type": "display_data"
    }
   ],
   "source": [
    "# the path to the JSON file\n",
    "file_path = \"../data/json_files/\"\n",
    "\n",
    "doc2json = {}\n",
    "\n",
    "for doc in tqdm(json_files):\n",
    "    # open the file in read mode\n",
    "    file_path = \"../data/json_files/\" + doc + \".json\"\n",
    "    with open(file_path, \"r\", encoding='utf-8',) as file:\n",
    "        # Load the JSON data\n",
    "        doc2json[doc] = json.load(file)"
   ]
  },
  {
   "cell_type": "code",
   "execution_count": 9,
   "metadata": {},
   "outputs": [
    {
     "data": {
      "text/plain": [
       "17486"
      ]
     },
     "execution_count": 9,
     "metadata": {},
     "output_type": "execute_result"
    }
   ],
   "source": [
    "len(doc2json)"
   ]
  },
  {
   "cell_type": "code",
   "execution_count": 10,
   "metadata": {},
   "outputs": [
    {
     "data": {
      "text/html": [
       "<div>\n",
       "<style scoped>\n",
       "    .dataframe tbody tr th:only-of-type {\n",
       "        vertical-align: middle;\n",
       "    }\n",
       "\n",
       "    .dataframe tbody tr th {\n",
       "        vertical-align: top;\n",
       "    }\n",
       "\n",
       "    .dataframe thead th {\n",
       "        text-align: right;\n",
       "    }\n",
       "</style>\n",
       "<table border=\"1\" class=\"dataframe\">\n",
       "  <thead>\n",
       "    <tr style=\"text-align: right;\">\n",
       "      <th></th>\n",
       "      <th>id</th>\n",
       "      <th>issn</th>\n",
       "      <th>title</th>\n",
       "      <th>fpage</th>\n",
       "      <th>lpage</th>\n",
       "      <th>year</th>\n",
       "      <th>volume</th>\n",
       "      <th>journal</th>\n",
       "      <th>author</th>\n",
       "      <th>type</th>\n",
       "      <th>...</th>\n",
       "      <th>tokens</th>\n",
       "      <th>visualizationLink</th>\n",
       "      <th>doi</th>\n",
       "      <th>jstorLink</th>\n",
       "      <th>hasAbstract</th>\n",
       "      <th>isAbstractOf</th>\n",
       "      <th>primaryTopic</th>\n",
       "      <th>primaryTopicPercentage</th>\n",
       "      <th>secondaryTopic</th>\n",
       "      <th>secondaryTopicPercentage</th>\n",
       "    </tr>\n",
       "  </thead>\n",
       "  <tbody>\n",
       "    <tr>\n",
       "      <th>0</th>\n",
       "      <td>rspa_1905_0001</td>\n",
       "      <td>0950-1207</td>\n",
       "      <td>Address delivered by the President, Sir Willia...</td>\n",
       "      <td>1</td>\n",
       "      <td>29</td>\n",
       "      <td>1905</td>\n",
       "      <td>76</td>\n",
       "      <td>Proceedings of the Royal Society of London. Se...</td>\n",
       "      <td>Sir William Huggins K. C. B., O. M., F. R. S.</td>\n",
       "      <td>speech</td>\n",
       "      <td>...</td>\n",
       "      <td>14279</td>\n",
       "      <td>http://corpora.clarin-d.uni-saarland.de/surpri...</td>\n",
       "      <td>10.1098/rspa.1905.0001</td>\n",
       "      <td>NaN</td>\n",
       "      <td>NaN</td>\n",
       "      <td>NaN</td>\n",
       "      <td>Biography</td>\n",
       "      <td>87.018807</td>\n",
       "      <td>Immunology</td>\n",
       "      <td>3.397728</td>\n",
       "    </tr>\n",
       "    <tr>\n",
       "      <th>1</th>\n",
       "      <td>rspa_1905_0002</td>\n",
       "      <td>0950-1207</td>\n",
       "      <td>The boring of the Simplon Tunnel, and the dist...</td>\n",
       "      <td>29</td>\n",
       "      <td>33</td>\n",
       "      <td>1905</td>\n",
       "      <td>76</td>\n",
       "      <td>Proceedings of the Royal Society of London. Se...</td>\n",
       "      <td>Francis Fox, M. Inst. C. E. |C. V. Boys, F. R. S.</td>\n",
       "      <td>article</td>\n",
       "      <td>...</td>\n",
       "      <td>1816</td>\n",
       "      <td>http://corpora.clarin-d.uni-saarland.de/surpri...</td>\n",
       "      <td>10.1098/rspa.1905.0002</td>\n",
       "      <td>NaN</td>\n",
       "      <td>NaN</td>\n",
       "      <td>NaN</td>\n",
       "      <td>Geography</td>\n",
       "      <td>34.843817</td>\n",
       "      <td>Thermodynamics</td>\n",
       "      <td>26.224835</td>\n",
       "    </tr>\n",
       "    <tr>\n",
       "      <th>2</th>\n",
       "      <td>rspa_1905_0003</td>\n",
       "      <td>0950-1207</td>\n",
       "      <td>On a method of finding the conductivity for heat.</td>\n",
       "      <td>34</td>\n",
       "      <td>48</td>\n",
       "      <td>1905</td>\n",
       "      <td>76</td>\n",
       "      <td>Proceedings of the Royal Society of London. Se...</td>\n",
       "      <td>Professor C. Niven, F. R. S.</td>\n",
       "      <td>article</td>\n",
       "      <td>...</td>\n",
       "      <td>3624</td>\n",
       "      <td>http://corpora.clarin-d.uni-saarland.de/surpri...</td>\n",
       "      <td>10.1098/rspa.1905.0003</td>\n",
       "      <td>NaN</td>\n",
       "      <td>NaN</td>\n",
       "      <td>NaN</td>\n",
       "      <td>Electricity</td>\n",
       "      <td>22.229782</td>\n",
       "      <td>Formulae</td>\n",
       "      <td>19.054271</td>\n",
       "    </tr>\n",
       "    <tr>\n",
       "      <th>3</th>\n",
       "      <td>rspa_1905_0004</td>\n",
       "      <td>0950-1207</td>\n",
       "      <td>Theory of the reflection of light near the pol...</td>\n",
       "      <td>49</td>\n",
       "      <td>65</td>\n",
       "      <td>1905</td>\n",
       "      <td>76</td>\n",
       "      <td>Proceedings of the Royal Society of London. Se...</td>\n",
       "      <td>Richard C. Maclaurin, M. A., LL. D.|Professor ...</td>\n",
       "      <td>article</td>\n",
       "      <td>...</td>\n",
       "      <td>2722</td>\n",
       "      <td>http://corpora.clarin-d.uni-saarland.de/surpri...</td>\n",
       "      <td>10.1098/rspa.1905.0004</td>\n",
       "      <td>NaN</td>\n",
       "      <td>NaN</td>\n",
       "      <td>NaN</td>\n",
       "      <td>Tables</td>\n",
       "      <td>38.543461</td>\n",
       "      <td>Fluid Dynamics</td>\n",
       "      <td>28.361855</td>\n",
       "    </tr>\n",
       "    <tr>\n",
       "      <th>4</th>\n",
       "      <td>rspa_1905_0005</td>\n",
       "      <td>0950-1207</td>\n",
       "      <td>On the relation between variations of atmosphe...</td>\n",
       "      <td>66</td>\n",
       "      <td>86</td>\n",
       "      <td>1905</td>\n",
       "      <td>76</td>\n",
       "      <td>Proceedings of the Royal Society of London. Se...</td>\n",
       "      <td>Captain H. G. Lyons|Sir W. E. Garstin, G. C. M...</td>\n",
       "      <td>article</td>\n",
       "      <td>...</td>\n",
       "      <td>10079</td>\n",
       "      <td>http://corpora.clarin-d.uni-saarland.de/surpri...</td>\n",
       "      <td>10.1098/rspa.1905.0005</td>\n",
       "      <td>NaN</td>\n",
       "      <td>NaN</td>\n",
       "      <td>NaN</td>\n",
       "      <td>Meteorology</td>\n",
       "      <td>51.203697</td>\n",
       "      <td>Geography</td>\n",
       "      <td>22.031809</td>\n",
       "    </tr>\n",
       "  </tbody>\n",
       "</table>\n",
       "<p>5 rows × 29 columns</p>\n",
       "</div>"
      ],
      "text/plain": [
       "               id       issn  \\\n",
       "0  rspa_1905_0001  0950-1207   \n",
       "1  rspa_1905_0002  0950-1207   \n",
       "2  rspa_1905_0003  0950-1207   \n",
       "3  rspa_1905_0004  0950-1207   \n",
       "4  rspa_1905_0005  0950-1207   \n",
       "\n",
       "                                               title fpage lpage  year  \\\n",
       "0  Address delivered by the President, Sir Willia...     1    29  1905   \n",
       "1  The boring of the Simplon Tunnel, and the dist...    29    33  1905   \n",
       "2  On a method of finding the conductivity for heat.    34    48  1905   \n",
       "3  Theory of the reflection of light near the pol...    49    65  1905   \n",
       "4  On the relation between variations of atmosphe...    66    86  1905   \n",
       "\n",
       "   volume                                            journal  \\\n",
       "0      76  Proceedings of the Royal Society of London. Se...   \n",
       "1      76  Proceedings of the Royal Society of London. Se...   \n",
       "2      76  Proceedings of the Royal Society of London. Se...   \n",
       "3      76  Proceedings of the Royal Society of London. Se...   \n",
       "4      76  Proceedings of the Royal Society of London. Se...   \n",
       "\n",
       "                                              author     type  ... tokens  \\\n",
       "0      Sir William Huggins K. C. B., O. M., F. R. S.   speech  ...  14279   \n",
       "1  Francis Fox, M. Inst. C. E. |C. V. Boys, F. R. S.  article  ...   1816   \n",
       "2                       Professor C. Niven, F. R. S.  article  ...   3624   \n",
       "3  Richard C. Maclaurin, M. A., LL. D.|Professor ...  article  ...   2722   \n",
       "4  Captain H. G. Lyons|Sir W. E. Garstin, G. C. M...  article  ...  10079   \n",
       "\n",
       "                                   visualizationLink                     doi  \\\n",
       "0  http://corpora.clarin-d.uni-saarland.de/surpri...  10.1098/rspa.1905.0001   \n",
       "1  http://corpora.clarin-d.uni-saarland.de/surpri...  10.1098/rspa.1905.0002   \n",
       "2  http://corpora.clarin-d.uni-saarland.de/surpri...  10.1098/rspa.1905.0003   \n",
       "3  http://corpora.clarin-d.uni-saarland.de/surpri...  10.1098/rspa.1905.0004   \n",
       "4  http://corpora.clarin-d.uni-saarland.de/surpri...  10.1098/rspa.1905.0005   \n",
       "\n",
       "  jstorLink  hasAbstract  isAbstractOf  primaryTopic  primaryTopicPercentage  \\\n",
       "0       NaN          NaN           NaN     Biography               87.018807   \n",
       "1       NaN          NaN           NaN     Geography               34.843817   \n",
       "2       NaN          NaN           NaN   Electricity               22.229782   \n",
       "3       NaN          NaN           NaN        Tables               38.543461   \n",
       "4       NaN          NaN           NaN   Meteorology               51.203697   \n",
       "\n",
       "   secondaryTopic  secondaryTopicPercentage  \n",
       "0      Immunology                  3.397728  \n",
       "1  Thermodynamics                 26.224835  \n",
       "2        Formulae                 19.054271  \n",
       "3  Fluid Dynamics                 28.361855  \n",
       "4       Geography                 22.031809  \n",
       "\n",
       "[5 rows x 29 columns]"
      ]
     },
     "execution_count": 10,
     "metadata": {},
     "output_type": "execute_result"
    }
   ],
   "source": [
    "\n",
    "# read the metadat file into a pandas dataframe\n",
    "metadata_file = '../data/Royal_Society_Corpus_open_v6.0_meta.tsv'\n",
    "\n",
    "metadata_df = pd.read_csv(metadata_file, delimiter='\\t')\n",
    "\n",
    "metadata_df.head()"
   ]
  },
  {
   "cell_type": "code",
   "execution_count": 11,
   "metadata": {},
   "outputs": [
    {
     "data": {
      "application/vnd.jupyter.widget-view+json": {
       "model_id": "d0da75f1e76f4c47b214c16b24f0c76a",
       "version_major": 2,
       "version_minor": 0
      },
      "text/plain": [
       "  0%|          | 0/17486 [00:00<?, ?it/s]"
      ]
     },
     "metadata": {},
     "output_type": "display_data"
    }
   ],
   "source": [
    "# add year, decade, and period to the dictionaries in doc2json\n",
    "\n",
    "for doc in tqdm(doc2json):\n",
    "    df_row = metadata_df.loc[metadata_df['id'] == doc]\n",
    "    year = df_row['year'].values[0]\n",
    "    decade = df_row['decade'].values[0]\n",
    "    period = df_row['period'].values[0]\n",
    "\n",
    "    doc2json[doc]['year'] = year\n",
    "    doc2json[doc]['decade'] = decade\n",
    "    doc2json[doc]['period'] = period"
   ]
  },
  {
   "cell_type": "code",
   "execution_count": 12,
   "metadata": {},
   "outputs": [
    {
     "data": {
      "text/plain": [
       "17486"
      ]
     },
     "execution_count": 12,
     "metadata": {},
     "output_type": "execute_result"
    }
   ],
   "source": [
    "doc2json_list = list(doc2json.values())\n",
    "len(doc2json_list)"
   ]
  },
  {
   "cell_type": "code",
   "execution_count": 14,
   "metadata": {},
   "outputs": [],
   "source": [
    "doc_dataset = datasets.Dataset.from_pandas(\n",
    "    pd.DataFrame(data=doc2json_list)\n",
    ")"
   ]
  },
  {
   "cell_type": "code",
   "execution_count": 15,
   "metadata": {},
   "outputs": [
    {
     "data": {
      "application/vnd.jupyter.widget-view+json": {
       "model_id": "dc07110712b645609bf831102e9a6a3a",
       "version_major": 2,
       "version_minor": 0
      },
      "text/plain": [
       "Uploading the dataset shards:   0%|          | 0/1 [00:00<?, ?it/s]"
      ]
     },
     "metadata": {},
     "output_type": "display_data"
    },
    {
     "data": {
      "application/vnd.jupyter.widget-view+json": {
       "model_id": "a895842aa1a044bcaebb6cff246c6570",
       "version_major": 2,
       "version_minor": 0
      },
      "text/plain": [
       "Creating parquet from Arrow format:   0%|          | 0/18 [00:00<?, ?ba/s]"
      ]
     },
     "metadata": {},
     "output_type": "display_data"
    },
    {
     "data": {
      "application/vnd.jupyter.widget-view+json": {
       "model_id": "630007ea981e472aab0479807960ee24",
       "version_major": 2,
       "version_minor": 0
      },
      "text/plain": [
       "README.md:   0%|          | 0.00/599 [00:00<?, ?B/s]"
      ]
     },
     "metadata": {},
     "output_type": "display_data"
    },
    {
     "data": {
      "text/plain": [
       "CommitInfo(commit_url='https://huggingface.co/datasets/badrabdullah/royal_society_corpus_LLM_generated_metadata/commit/ffb8003c44dfc2f33725b7be13bd6128dbe326be', commit_message='Upload dataset', commit_description='', oid='ffb8003c44dfc2f33725b7be13bd6128dbe326be', pr_url=None, pr_revision=None, pr_num=None)"
      ]
     },
     "execution_count": 15,
     "metadata": {},
     "output_type": "execute_result"
    }
   ],
   "source": [
    "\n",
    "# Push the doc_dataset to the HuggingFace hub\n",
    "doc_dataset.push_to_hub(\"badrabdullah/royal_society_corpus_LLM_generated_metadata\")"
   ]
  },
  {
   "cell_type": "code",
   "execution_count": 16,
   "metadata": {},
   "outputs": [
    {
     "data": {
      "application/vnd.jupyter.widget-view+json": {
       "model_id": "256bbf6f6aea44fa8ca536aa2b3dae5f",
       "version_major": 2,
       "version_minor": 0
      },
      "text/plain": [
       "Saving the dataset (0/1 shards):   0%|          | 0/17486 [00:00<?, ? examples/s]"
      ]
     },
     "metadata": {},
     "output_type": "display_data"
    }
   ],
   "source": [
    "doc_dataset.save_to_disk('../data/royal_society_corpus_LLM_generated_metadata.hfds')"
   ]
  }
 ],
 "metadata": {
  "kernelspec": {
   "display_name": "bertopic",
   "language": "python",
   "name": "python3"
  },
  "language_info": {
   "codemirror_mode": {
    "name": "ipython",
    "version": 3
   },
   "file_extension": ".py",
   "mimetype": "text/x-python",
   "name": "python",
   "nbconvert_exporter": "python",
   "pygments_lexer": "ipython3",
   "version": "3.9.19"
  }
 },
 "nbformat": 4,
 "nbformat_minor": 2
}
