{
 "cells": [
  {
   "cell_type": "code",
   "execution_count": 1,
   "metadata": {},
   "outputs": [],
   "source": [
    "import numpy as np\n",
    "from collections import defaultdict, Counter, OrderedDict\n",
    "import pickle"
   ]
  },
  {
   "cell_type": "code",
   "execution_count": 122,
   "metadata": {},
   "outputs": [],
   "source": [
    "import yaml, json\n",
    "from schema import Schema, And, Use, Optional, SchemaError"
   ]
  },
  {
   "cell_type": "code",
   "execution_count": 3,
   "metadata": {},
   "outputs": [],
   "source": [
    "from tqdm.notebook import tqdm"
   ]
  },
  {
   "cell_type": "code",
   "execution_count": 4,
   "metadata": {},
   "outputs": [],
   "source": [
    "#from typing import List, Optional\n",
    "from pydantic import BaseModel\n",
    "\n",
    "from pathlib import Path"
   ]
  },
  {
   "cell_type": "code",
   "execution_count": 86,
   "metadata": {},
   "outputs": [],
   "source": [
    "# Specify the file paths\n",
    "file_paths = [\n",
    "    \"../data/doc2yaml_1660_1750.pkl\", \n",
    "    \"../data/doc2yaml_1660_1810.pkl\", \n",
    "    \"../data/doc2yaml_1820.pkl\", \n",
    "    \"../data/doc2yaml_1830.pkl\",\n",
    "    \"../data/doc2yaml_1840.pkl\",\n",
    "    \"../data/doc2yaml_1850.pkl\",\n",
    "    \"../data/doc2yaml_1860.pkl\",\n",
    "    \"../data/doc2yaml_1870.pkl\",\n",
    "    \"../data/doc2yaml_1880.pkl\",\n",
    "    \"../data/doc2yaml_1890.pkl\",  \n",
    "    \"../data/doc2yaml_1900.pkl\",\n",
    "    \"../data/doc2yaml_1910.pkl\",\n",
    "    \"../data/doc2yaml_1920.pkl\",        \n",
    "]"
   ]
  },
  {
   "cell_type": "code",
   "execution_count": 87,
   "metadata": {},
   "outputs": [
    {
     "data": {
      "application/vnd.jupyter.widget-view+json": {
       "model_id": "203a92930535433fab9bf047b3b657bc",
       "version_major": 2,
       "version_minor": 0
      },
      "text/plain": [
       "  0%|          | 0/13 [00:00<?, ?it/s]"
      ]
     },
     "metadata": {},
     "output_type": "display_data"
    }
   ],
   "source": [
    "doc2text = {}\n",
    "\n",
    "for file_path in tqdm(file_paths):\n",
    "\n",
    "    # Read the dictionary from the file\n",
    "    with open(file_path, \"rb\") as file:\n",
    "        doc2text_decade = pickle.load(file)\n",
    "\n",
    "        # and then update the doc2text dictionary\n",
    "        doc2text.update(doc2text_decade)"
   ]
  },
  {
   "cell_type": "code",
   "execution_count": 88,
   "metadata": {},
   "outputs": [
    {
     "data": {
      "text/plain": [
       "17520"
      ]
     },
     "execution_count": 88,
     "metadata": {},
     "output_type": "execute_result"
    }
   ],
   "source": [
    "len(doc2text)\n"
   ]
  },
  {
   "cell_type": "code",
   "execution_count": 89,
   "metadata": {},
   "outputs": [],
   "source": [
    "\n",
    "# # Specify the file path\n",
    "# file_path = \"../data/doc2yaml_1660_1810.pkl\"\n",
    "\n",
    "# # Read the dictionary from the file\n",
    "# with open(file_path, \"rb\") as file:\n",
    "#     doc2text2 = pickle.load(file)"
   ]
  },
  {
   "cell_type": "code",
   "execution_count": 90,
   "metadata": {},
   "outputs": [
    {
     "name": "stdout",
     "output_type": "stream",
     "text": [
      "('revised_title', 'Caution: This is title')\n",
      "('topics', '')\n"
     ]
    }
   ],
   "source": [
    "def get_key_value_pair(line_str):\n",
    "    \"\"\"\n",
    "    Given a str as in 'revised_title: \"Caution: This is title\"', \n",
    "    return a tuple ('revised_title', \"Caution: This is title\")\n",
    "    \"\"\"\n",
    "    first_colon_index = line_str.find(\":\")\n",
    "\n",
    "    if first_colon_index != -1:\n",
    "        key_str = line_str[:first_colon_index].strip()\n",
    "\n",
    "        # when \" '...' \",  we don't need the outer double quotes, and \n",
    "        # when ' \"...\" ',  we don't need the outer single quotes\n",
    "        # so we take everything except first and last char via [1:-1]\n",
    "        value_str = line_str[first_colon_index + 1:].strip()[1:-1]\n",
    "\n",
    "    else:\n",
    "        # no colon in the line\n",
    "        return (line_str, None)\n",
    "\n",
    "    return key_str, value_str\n",
    "\n",
    "# write test cases for the function get_key_value_pair\n",
    "print(get_key_value_pair('revised_title: \"Caution: This is title\"'))\n",
    "print(get_key_value_pair('topics:') )\n",
    "assert get_key_value_pair('revised_title: \"Caution: This is title\"') == ('revised_title', 'Caution: This is title')\n",
    "assert get_key_value_pair('topics:') == ('topics', '')"
   ]
  },
  {
   "cell_type": "code",
   "execution_count": 91,
   "metadata": {},
   "outputs": [
    {
     "name": "stdout",
     "output_type": "stream",
     "text": [
      "All test cases passed!\n"
     ]
    }
   ],
   "source": [
    "# Test case 1: Valid input with colon\n",
    "line_str = 'revised_title: \"Caution: This is title\"'\n",
    "expected_output = ('revised_title', 'Caution: This is title')\n",
    "assert get_key_value_pair(line_str) == expected_output\n",
    "\n",
    "# Test case 2: Valid input without colon\n",
    "#line_str = 'revised_title \"Caution: This is title\"'\n",
    "#expected_output = None\n",
    "#assert get_key_value_pair(line_str) == expected_output\n",
    "\n",
    "# Test case 3: Empty input\n",
    "line_str = ''\n",
    "expected_output = (line_str, None)\n",
    "assert get_key_value_pair(line_str) == expected_output\n",
    "\n",
    "# Test case 4: Input with leading/trailing spaces\n",
    "line_str = '  revised_title: \"Caution: This is title\"  '\n",
    "expected_output = ('revised_title', 'Caution: This is title')\n",
    "assert get_key_value_pair(line_str) == expected_output\n",
    "\n",
    "# Test case 5: Input with multiple colons\n",
    "line_str = 'revised_title: \"Caution: This: is: title\"'\n",
    "expected_output = ('revised_title', 'Caution: This: is: title')\n",
    "assert get_key_value_pair(line_str) == expected_output\n",
    "\n",
    "# Test case 6: Input with without colons but with topic list iterm\n",
    "line_str = '- \"Geometry\"'\n",
    "expected_output = (line_str, None)\n",
    "assert get_key_value_pair(line_str) == expected_output\n",
    "\n",
    "print(\"All test cases passed!\")"
   ]
  },
  {
   "cell_type": "code",
   "execution_count": 102,
   "metadata": {},
   "outputs": [
    {
     "data": {
      "application/vnd.jupyter.widget-view+json": {
       "model_id": "7044214a514f48a795e8132e2f65d0c0",
       "version_major": 2,
       "version_minor": 0
      },
      "text/plain": [
       "Parsing yaml string into dictionary:   0%|          | 0/17520 [00:00<?, ?it/s]"
      ]
     },
     "metadata": {},
     "output_type": "display_data"
    },
    {
     "name": "stdout",
     "output_type": "stream",
     "text": [
      "109700 did not parse topics:, 15,  article_id: \"109700\"\n",
      "108426 did not parse topics:, 13,  article_id: \"108426\"\n",
      "rspl_1873_0058 did not parse topics:, 12,  article_id: \"rspl_1873_0058\"\n",
      "rspl_1879_0038 did not parse topics:, 12,  article_id: \"rspl_1879_0038\"\n",
      "rspl_1879_0070 did not parse topics:, 12,  article_id: \"rspl_1879_0070\"\n",
      "rstl_1872_0010 did not parse topics:, 12,  article_id: \"rstl_1872_0010\"\n",
      "rspl_1893_0034 did not parse topics:, 12,  article_id: \"rspl_1893_0034\"\n",
      "rspl_1895_0105 did not parse topics:, 12,  article_id: \"rspl_1895_0105\"\n",
      "rspa_1906_0055 did not parse topics:, 12,  article_id: \"rspa_1906_0055\"\n",
      "rspb_1906_0049 did not parse topics:, 13,  article_id: \"rspb_1906_0049\"\n",
      "rspb_1909_0042 did not parse topics_for_search:, 17,  article_id: \"rspb_1909_0042\"\n",
      "rstb_1904_0010 did not parse topics:, 13,  article_id: \"rstb_1904_0010\"\n",
      "rspa_1916_0041 did not parse topics:, 12,  article_id: \"rspa_1916_0041\"\n",
      "rsta_1912_0012 did not parse topics_short:, 17,  article_id: \"rsta_1912_0012\"\n"
     ]
    }
   ],
   "source": [
    "# parse yaml string into dictionary\n",
    "doc2dict = {}\n",
    "\n",
    "for doc in tqdm(doc2text, desc=\"Parsing yaml string into dictionary\", total=len(doc2text)):\n",
    "\n",
    "    #print(doc, doc2text[doc])\n",
    "\n",
    "    doc2dict[doc] = {} # perhaps consider OrderedDict() instead \n",
    "    lines = doc2text[doc].split(\"\\n\")\n",
    "\n",
    "    # expected number of lines for each yaml is 12\n",
    "    # if there is more, we need to do some cleaning\n",
    "\n",
    "    # zeroth case: sometimes there are empty lines\n",
    "    # get rid of them\n",
    "    lines = [l for l in lines if len(l) > 0]\n",
    "\n",
    "    if len(lines) > 11:\n",
    "        \n",
    "        if lines[0].startswith(\"article_id: \"): \n",
    "\n",
    "            if lines[-1].startswith(\"scientific_subdiscipline: \"):\n",
    "                # first case: there are more than 5 topics \n",
    "                # this is OK, as long as first & last line \n",
    "                # behave as expected \n",
    "                pass # do nothing here for now \n",
    "            \n",
    "            #elif lines[-2].startswith(\"scientific_discipline_2: \"):\n",
    "                # second case: sometimes the LLM add things like \n",
    "                # another category, e.g.,\n",
    "                # scientific_discipline_2, scientific_subdiscipline_2\n",
    "                # remove the last two lines and see how that works \n",
    "                #lines = lines[:-2]\n",
    "\n",
    "            #elif lines[-1].startswith(\"scientific_subdiscipline_2: \"):\n",
    "                # third case: sometimes the LLM add things like \n",
    "                # an additional subcategory e.g., \n",
    "                # scientific_subdiscipline_2, scientific_subdiscipline_3\n",
    "                # remove the last two lines and see how that works \n",
    "                #lines = lines[:-1] \n",
    "\n",
    "            elif lines[-1].startswith(\"```\"):  \n",
    "                # third case: sometimes the LLM output yaml output\n",
    "                # twice! with additional ```yaml ... ``` at the end\n",
    "                # remove the additional text to handle this case\n",
    "                for i, l in enumerate(lines):\n",
    "                    if l.startswith(\"```\"):\n",
    "                        lines = lines[:i]\n",
    "                        break\n",
    "\n",
    "    # a variable to keep track of whether we are reading a list\n",
    "    # and it toggled to True when we see a the key 'topics'\n",
    "    isTopicList = False\n",
    "\n",
    "    for i, line in enumerate(lines):\n",
    "\n",
    "        key_str, value_str = get_key_value_pair(line)\n",
    "\n",
    "        # if a key-value pair (e.g., 'article_id: 12345')\n",
    "        # simply read as key and value\n",
    "\n",
    "        if key_str and value_str: \n",
    "            \n",
    "            #if key_str == 'article_id':\n",
    "            #value_str = str(value_str) # force this value to be string\n",
    "\n",
    "            doc2dict[doc][key_str] = str(value_str) \n",
    "\n",
    "            continue # move to the next line\n",
    "\n",
    "        # if a key followed by list items, read all list items\n",
    "        elif key_str == 'topics' and not isTopicList: \n",
    "                #key = line_tokens[0] \n",
    "                topic_key_str = key_str\n",
    "                doc2dict[doc][topic_key_str] = []\n",
    "\n",
    "                isTopicList = True \n",
    "                continue # move to the next line to get first list item\n",
    "        \n",
    "        elif isTopicList:\n",
    "            line_tokens = line.split(\"-\")\n",
    "\n",
    "            try: \n",
    "                topic_item = line_tokens[1].strip()[1:-1]\n",
    "                doc2dict[doc][topic_key_str].append(topic_item)\n",
    "\n",
    "            except IndexError:\n",
    "                print(f\"{doc} did not parse {line}, {len(lines)},  {lines[0]}\") \n",
    "                # {line_tokens}, {lines},\n"
   ]
  },
  {
   "cell_type": "code",
   "execution_count": 107,
   "metadata": {},
   "outputs": [
    {
     "name": "stdout",
     "output_type": "stream",
     "text": [
      "100943 is not a valid YAML!\n",
      "101568 is not a valid YAML!\n",
      "101704 is not a valid YAML!\n",
      "102297 is not a valid YAML!\n",
      "102437 is not a valid YAML!\n",
      "102947 is not a valid YAML!\n",
      "106125 is not a valid YAML!\n",
      "106284 is not a valid YAML!\n",
      "106670 is not a valid YAML!\n",
      "106691 is not a valid YAML!\n",
      "107010 is not a valid YAML!\n",
      "109700 is not a valid YAML!\n",
      "rspl_1873_0058 is not a valid YAML!\n",
      "rspl_1879_0038 is not a valid YAML!\n",
      "rspl_1879_0070 is not a valid YAML!\n",
      "rstl_1872_0010 is not a valid YAML!\n",
      "rstl_1875_0002 is not a valid YAML!\n",
      "rstl_1876_0005 is not a valid YAML!\n",
      "rspl_1881_0128 is not a valid YAML!\n",
      "rspl_1891_0028 is not a valid YAML!\n",
      "rspl_1893_0034 is not a valid YAML!\n",
      "rspl_1894_0070 is not a valid YAML!\n",
      "rspl_1894_0138 is not a valid YAML!\n",
      "rspl_1894_0168 is not a valid YAML!\n",
      "rspl_1895_0105 is not a valid YAML!\n",
      "rspl_1897_0043 is not a valid YAML!\n",
      "rspl_1899_0103 is not a valid YAML!\n",
      "rspa_1906_0055 is not a valid YAML!\n",
      "rspb_1905_0009 is not a valid YAML!\n",
      "rspb_1906_0049 is not a valid YAML!\n",
      "rspl_1902_0122 is not a valid YAML!\n",
      "rstb_1904_0010 is not a valid YAML!\n",
      "rspa_1912_0055 is not a valid YAML!\n",
      "rspa_1916_0041 is not a valid YAML!\n"
     ]
    }
   ],
   "source": [
    "schema = Schema(\n",
    "    {\n",
    "        'article_id': And(str, lambda s: len(s) >= 0),\n",
    "        'revised_title': And(str, lambda s: len(s) >= 0),\n",
    "        'topics': And(list, lambda topics: all(isinstance(topic, str) for topic in topics)),\n",
    "        'tldr': And(str, lambda s: len(s) >= 0),\n",
    "        'scientific_discipline': And(str, lambda s: len(s) >= 0),\n",
    "        'scientific_subdiscipline': And(str, lambda s: len(s) >= 0),\n",
    "        #Optional('scientific_discipline_2'): And(str, lambda s: len(s) >= 0),\n",
    "        #Optional('scientific_subdiscipline_2'): And(str, lambda s: len(s) >= 0)\n",
    "    }\n",
    ")\n",
    "\n",
    "\n",
    "def is_valid_yaml(yaml_str):\n",
    "    try:\n",
    "        schema.validate(yaml_str)\n",
    "        return True #print(\"Data is valid according to the schema.\")\n",
    "        \n",
    "    except Exception as e:\n",
    "        #print(\"Data is not valid according to the schema:\", str(e))\n",
    "        return False\n",
    "\n",
    "doc2yaml = {}\n",
    "for doc, yaml_str in doc2dict.items():\n",
    "    \n",
    "    if not is_valid_yaml(yaml_str):\n",
    "        print(f\"{doc} is not a valid YAML!\")\n",
    "    else:\n",
    "        doc2yaml[doc] = yaml_str"
   ]
  },
  {
   "cell_type": "code",
   "execution_count": 109,
   "metadata": {},
   "outputs": [
    {
     "data": {
      "text/plain": [
       "(17520, 17486, '99.81% valid YAML.')"
      ]
     },
     "execution_count": 109,
     "metadata": {},
     "output_type": "execute_result"
    }
   ],
   "source": [
    "len(doc2text), len(doc2yaml), f\"{(len(doc2yaml)/len(doc2text))*100:.2f}% valid YAML.\""
   ]
  },
  {
   "cell_type": "code",
   "execution_count": 127,
   "metadata": {},
   "outputs": [
    {
     "data": {
      "application/vnd.jupyter.widget-view+json": {
       "model_id": "c69c166a19644bd9a94f4e334398d5a8",
       "version_major": 2,
       "version_minor": 0
      },
      "text/plain": [
       "  0%|          | 0/17486 [00:00<?, ?it/s]"
      ]
     },
     "metadata": {},
     "output_type": "display_data"
    }
   ],
   "source": [
    "# save as yaml files\n",
    "\n",
    "for doc, yaml_dict in tqdm(doc2yaml.items()):\n",
    "\n",
    "    file_path = f\"../data/yaml_files/{doc}.yaml\"\n",
    "    \n",
    "    with open(file_path, \"w\", encoding=\"utf-8\") as file:\n",
    "        yaml.safe_dump(yaml_dict, \n",
    "            file,\n",
    "            allow_unicode=True,\n",
    "            encoding='utf-8',\n",
    "            default_flow_style=False\n",
    "        )"
   ]
  },
  {
   "cell_type": "code",
   "execution_count": 126,
   "metadata": {},
   "outputs": [
    {
     "data": {
      "application/vnd.jupyter.widget-view+json": {
       "model_id": "ce88844eda554399a8b38a4561deca5b",
       "version_major": 2,
       "version_minor": 0
      },
      "text/plain": [
       "  0%|          | 0/17486 [00:00<?, ?it/s]"
      ]
     },
     "metadata": {},
     "output_type": "display_data"
    }
   ],
   "source": [
    "# save as json files\n",
    "\n",
    "for doc, yaml_dict in tqdm(doc2yaml.items()):\n",
    "\n",
    "    file_path = f\"../data/json_files/{doc}.json\"\n",
    "    \n",
    "    with open(file_path, \"w\", encoding=\"utf-8\") as file:\n",
    "        json.dump(yaml_dict, file)"
   ]
  }
 ],
 "metadata": {
  "kernelspec": {
   "display_name": "bertopic",
   "language": "python",
   "name": "python3"
  },
  "language_info": {
   "codemirror_mode": {
    "name": "ipython",
    "version": 3
   },
   "file_extension": ".py",
   "mimetype": "text/x-python",
   "name": "python",
   "nbconvert_exporter": "python",
   "pygments_lexer": "ipython3",
   "version": "3.9.19"
  }
 },
 "nbformat": 4,
 "nbformat_minor": 2
}
